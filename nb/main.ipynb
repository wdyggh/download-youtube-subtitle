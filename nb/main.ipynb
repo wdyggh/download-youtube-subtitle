{
 "cells": [
  {
   "cell_type": "code",
   "execution_count": 1,
   "metadata": {
    "ExecuteTime": {
     "end_time": "2021-04-17T04:28:48.954474Z",
     "start_time": "2021-04-17T04:28:48.939459Z"
    }
   },
   "outputs": [],
   "source": [
    "#export\n",
    "import sys\n",
    "if __name__ == '__main__': sys.path.append('..')\n",
    "import download_youtube_subtitle.common as common\n",
    "from pprint import pprint\n",
    "def pj(*args, **kargs):\n",
    "    if common.IN_JUPYTER:\n",
    "        pprint(*args, **kargs)\n",
    "        \n",
    "from functools import partial\n",
    "import sys\n",
    "\n",
    "perr = partial(print, \"ERR: \")"
   ]
  },
  {
   "cell_type": "code",
   "execution_count": 2,
   "metadata": {
    "ExecuteTime": {
     "end_time": "2021-04-17T04:28:49.416539Z",
     "start_time": "2021-04-17T04:28:48.957456Z"
    }
   },
   "outputs": [],
   "source": [
    "#export\n",
    "import requests\n",
    "import socket\n",
    "socket.setdefaulttimeout(5.)"
   ]
  },
  {
   "cell_type": "code",
   "execution_count": 3,
   "metadata": {
    "ExecuteTime": {
     "end_time": "2021-04-17T04:28:49.427490Z",
     "start_time": "2021-04-17T04:28:49.419476Z"
    }
   },
   "outputs": [],
   "source": [
    "#export\n",
    "# dealing with xml.dom\n",
    "import re\n",
    "def getVal(dom, key):\n",
    "    att = dom.attributes[key]\n",
    "    return att.value\n",
    "\n",
    "def eachTxt(txt, remove_font_tag):\n",
    "    start = getVal(txt, 'start')\n",
    "    dur = getVal(txt, 'dur')\n",
    "    if txt.firstChild is None:\n",
    "        # fix dl-youtube-cc.exe Zd14s2WW-Tc --caption_num=1\n",
    "        txt = \"\"\n",
    "    else :\n",
    "        txt = html.unescape((txt.firstChild.data))\n",
    "        if remove_font_tag:\n",
    "            txt =   re.sub(r'</?font[^>]*>','', txt)\n",
    "    return {\n",
    "        \"start\":start, \n",
    "        \"dur\": dur,\n",
    "        \"text\": txt\n",
    "    }"
   ]
  },
  {
   "cell_type": "code",
   "execution_count": 4,
   "metadata": {
    "ExecuteTime": {
     "end_time": "2021-04-17T04:28:49.440475Z",
     "start_time": "2021-04-17T04:28:49.429470Z"
    }
   },
   "outputs": [],
   "source": [
    "#export\n",
    "# todo \n",
    "# add tlang=zh-Hans to baseUrl\n",
    "# will get translation\n",
    "\n",
    "# getting track info\n",
    "\n",
    "def get_data(link):\n",
    "    data = requests.get(link)\n",
    "    data = data.text\n",
    "    return data\n",
    "class CaptionNotAvailableException(Exception):\n",
    "    pass \n",
    "import re\n",
    "import json\n",
    "import urllib\n",
    "def get_tracks_title(data):\n",
    "    decodedData = urllib.parse.unquote(data)\n",
    "    if 'captionTracks' not in decodedData:\n",
    "        perr(\"no caption available for this video ;( following are message from youtube\")\n",
    "        perr(re.findall('playabilityStatus.*?}', decodedData))\n",
    "        raise CaptionNotAvailableException()\n",
    "    match = re.search(r'({\"captionTracks\":.*isTranslatable\":(true|false)}])', decodedData)\n",
    "    match = match.group(1)\n",
    "    match = f\"{match}}}\"\n",
    "    captionTracks =  json.loads(match)['captionTracks']\n",
    "    match = re.search(r'title\":\"(.*?)\",\"lengthSeconds\":', decodedData)\n",
    "    title = match.group(1)\n",
    "    return captionTracks, title"
   ]
  },
  {
   "cell_type": "code",
   "execution_count": 5,
   "metadata": {
    "ExecuteTime": {
     "end_time": "2021-04-17T04:28:49.451476Z",
     "start_time": "2021-04-17T04:28:49.442469Z"
    }
   },
   "outputs": [],
   "source": [
    "#export\n",
    "# dealing with transcript\n",
    "import math\n",
    "from functools import partial\n",
    "import sys\n",
    "from xml.dom.minidom import parseString\n",
    "import html\n",
    "def parseTranscript(transcript, remove_font_tag=True):\n",
    "    try:\n",
    "        dom = parseString(transcript.text)\n",
    "    except :\n",
    "        perr(\"check your lang code\")\n",
    "        perr(\"server response\")\n",
    "        perr(transcript.text)\n",
    "        exit(1)\n",
    "    texts = dom.getElementsByTagName('text')\n",
    "    \n",
    "    _eachTxt = partial(eachTxt, remove_font_tag=remove_font_tag)\n",
    "    texts = list(map( _eachTxt, texts,))\n",
    "    return texts \n",
    "\n",
    "def each_sent(o, file=sys.stdout):\n",
    "    start = o['start']\n",
    "    start = float(start)\n",
    "    minute = math.floor(start/60)\n",
    "    second = math.floor(start%60)\n",
    "    p = partial(print, file=file)\n",
    "    p(f\"---------{minute:02d}:{second:02d}----------\")\n",
    "    p(o['text'])\n",
    "    translate_text = o.get('translate_text', None)\n",
    "    if translate_text:\n",
    "        p(translate_text)\n",
    "   "
   ]
  },
  {
   "cell_type": "code",
   "execution_count": 6,
   "metadata": {
    "ExecuteTime": {
     "end_time": "2021-04-17T04:28:49.466514Z",
     "start_time": "2021-04-17T04:28:49.454471Z"
    }
   },
   "outputs": [],
   "source": [
    "#export\n",
    "# dealing with valid filename\n",
    "# https://github.com/django/django/blob/master/django/utils/text.py\n",
    "import re\n",
    "def get_valid_filename(s):\n",
    "    \"\"\"\n",
    "    Return the given string converted to a string that can be used for a clean\n",
    "    filename. Remove leading and trailing spaces; convert other spaces to\n",
    "    underscores; and remove anything that is not an alphanumeric, dash,\n",
    "    underscore, or dot.\n",
    "    >>> get_valid_filename(\"john's portrait in 2004.jpg\")\n",
    "    'johns_portrait_in_2004.jpg'\n",
    "    \"\"\"\n",
    "    s = str(s).strip().replace(' ', '_')\n",
    "    return re.sub(r'(?u)[^-\\w.]', '', s)"
   ]
  },
  {
   "cell_type": "code",
   "execution_count": 7,
   "metadata": {
    "ExecuteTime": {
     "end_time": "2021-04-17T04:28:49.481535Z",
     "start_time": "2021-04-17T04:28:49.468526Z"
    }
   },
   "outputs": [],
   "source": [
    "#export\n",
    "import copy\n",
    "def merge_subtitle(subtitle, subtitle_cn):\n",
    "    \"\"\"\n",
    "    merge subtitle_cn(traslation) to subtitle(origin).\n",
    "    cc and translated cc aren't always align, \n",
    "    I found at least in cn and ja, translated cc are less than cc\n",
    "    see  videoID='HSz7Q4YnQ_M'\n",
    "    cc and translated cc aren't always equal in time see wgNiGj1nGYE for translation ja\n",
    "    \"\"\"\n",
    "    subtitle = copy.deepcopy(subtitle) # original transcript\n",
    "    subtitle_cn = copy.deepcopy(subtitle_cn) # translation script\n",
    "    \n",
    "    TRANSLATE_TEXT=\"translate_text\"\n",
    "    TEXT=\"text\"\n",
    "    START=\"start\"\n",
    "    \n",
    "    # NOTE not sure how to merge them properly\n",
    "    \n",
    "    # indexer for subtitle \n",
    "    sub_p = 0\n",
    "    sub_p_cn = 0\n",
    "    \n",
    "    while sub_p < len(subtitle) and sub_p_cn < len(subtitle_cn):\n",
    "        \n",
    "        sub = subtitle[sub_p]\n",
    "        sub_cn = subtitle_cn[sub_p_cn]\n",
    "        \n",
    "        if TRANSLATE_TEXT not in sub: sub[TRANSLATE_TEXT] = \"\"\n",
    "        \n",
    "        if float(sub[START]) >= float(sub_cn[START]) :\n",
    "        # sub goes first, being chased by sub_cn\n",
    "        \n",
    "            # for separating the sentence\n",
    "            if len(sub[TRANSLATE_TEXT]) != 0: sub[TRANSLATE_TEXT] += \"\\n\"\n",
    "            \n",
    "            sub[TRANSLATE_TEXT] +=  sub_cn[TEXT]\n",
    "            \n",
    "            sub_p_cn += 1\n",
    "            \n",
    "        else :\n",
    "            sub_p += 1\n",
    "            \n",
    "    # add empty field for subitle\n",
    "    while sub_p < len(subtitle):\n",
    "        assert sub_p_cn == len(subtitle_cn)\n",
    "        \n",
    "        sub = subtitle[sub_p]\n",
    "        if TRANSLATE_TEXT not in sub: sub[TRANSLATE_TEXT] = \"\"\n",
    "        sub_p += 1\n",
    "        \n",
    "    # add the rest of subtitle_cn to the last one of subtitle\n",
    "    while sub_p_cn < len(subtitle_cn):\n",
    "        assert sub_p == len(subtitle)\n",
    "        \n",
    "        sub = subtitle[-1]\n",
    "        \n",
    "        if TRANSLATE_TEXT not in sub: sub[TRANSLATE_TEXT] = \"\"\n",
    "            \n",
    "        if len(sub[TRANSLATE_TEXT]) != 0: sub[TRANSLATE_TEXT] += \"\\n\"\n",
    "        \n",
    "        sub[TRANSLATE_TEXT] += sub_cn[TEXT]\n",
    "        sub_p_cn += 1\n",
    "        \n",
    "    assert sub_p == len(subtitle)\n",
    "    assert sub_p_cn == len(subtitle_cn)\n",
    "        \n",
    "    return subtitle"
   ]
  },
  {
   "cell_type": "code",
   "execution_count": 8,
   "metadata": {
    "ExecuteTime": {
     "end_time": "2021-04-17T04:28:51.710456Z",
     "start_time": "2021-04-17T04:28:49.484533Z"
    }
   },
   "outputs": [],
   "source": [
    "#test_export\n",
    "#here to break up the procss\n",
    "# videoID=\"Zd14s2WW-Tc\"\n",
    "videoID=\"wgNiGj1nGYE\"\n",
    "data_link=f\"https://youtube.com/get_video_info?video_id={videoID}\"\n",
    "data=get_data(data_link)\n",
    "captionTracks, title = get_tracks_title(data)\n",
    "baseUrl = captionTracks[0]['baseUrl']\n",
    "transcript = requests.get(baseUrl)\n",
    "subtitle = parseTranscript(transcript)\n",
    "# baseUrl = captionTracks[0]['baseUrl'] + '&tlang=zh-Hans'\n",
    "baseUrl = captionTracks[0]['baseUrl'] + '&tlang=ja'\n",
    "transcript = requests.get(baseUrl)\n",
    "subtitle_cn = parseTranscript(transcript)\n",
    "merged_subtitle = merge_subtitle(subtitle, subtitle_cn)"
   ]
  },
  {
   "cell_type": "code",
   "execution_count": null,
   "metadata": {
    "ExecuteTime": {
     "start_time": "2021-04-17T04:28:48.956Z"
    }
   },
   "outputs": [],
   "source": [
    "#export\n",
    "def format_caption(caption):\n",
    "    ret = f\"{caption['vssId']:8s} {caption['name']['simpleText']}\"\n",
    "    if 'a.' in caption['vssId']:\n",
    "        ret += ' automatically generated by youtube'\n",
    "    return ret"
   ]
  },
  {
   "cell_type": "code",
   "execution_count": null,
   "metadata": {
    "ExecuteTime": {
     "start_time": "2021-04-17T04:28:48.958Z"
    },
    "deletable": false,
    "editable": false,
    "run_control": {
     "frozen": true
    }
   },
   "outputs": [
    {
     "name": "stdout",
     "output_type": "stream",
     "text": [
      "save to  Version1.5SpecialProgramGenshinImpact.txt\n"
     ]
    }
   ],
   "source": [
    "#test_export\n",
    "output_file = get_valid_filename(f'{title}.txt')\n",
    "with open(output_file , 'w', encoding='UTF-8') as f:\n",
    "    print(\"save to \", output_file)\n",
    "    for sent in subtitle:\n",
    "        each_sent(sent, file=f)"
   ]
  },
  {
   "cell_type": "code",
   "execution_count": null,
   "metadata": {
    "ExecuteTime": {
     "start_time": "2021-04-17T04:28:48.960Z"
    },
    "deletable": false,
    "editable": false,
    "run_control": {
     "frozen": true
    }
   },
   "outputs": [],
   "source": [
    "import json\n",
    "decodedData = urllib.parse.unquote(data)\n",
    "match = re.search(r'translationLanguages\":', decodedData)\n",
    "match2 = re.search(r'defaultAudioTrackIndex', decodedData)\n",
    "lang_code = decodedData[match.span()[1] : match2.span()[0]-2]\n",
    "lang_code =  json.loads(lang_code)\n",
    "with open('../lang_code.json', 'w', encoding='UTF-8') as f:\n",
    "    json.dump(lang_code, f, indent=4, ensure_ascii=False)"
   ]
  },
  {
   "cell_type": "code",
   "execution_count": null,
   "metadata": {
    "ExecuteTime": {
     "start_time": "2021-04-17T04:28:48.963Z"
    }
   },
   "outputs": [],
   "source": [
    "#export\n",
    "def parseVideoID(videoID):\n",
    "    if 'youtu' in videoID:\n",
    "        videoID = re.search('v=([^&]+)', videoID).group(1)\n",
    "        \n",
    "    video_link = f'https://www.youtube.com/watch?v={videoID}'\n",
    "    data_link=f\"https://youtube.com/get_video_info?video_id={videoID}\"\n",
    "    return videoID, video_link, data_link"
   ]
  },
  {
   "cell_type": "code",
   "execution_count": null,
   "metadata": {
    "ExecuteTime": {
     "start_time": "2021-04-17T04:28:48.965Z"
    }
   },
   "outputs": [],
   "source": [
    "#test_export\n",
    "videoID = 'https://www.youtube.com/watch?v=wgNiGj1nGYE'\n",
    "videoID, video_link, data_link = parseVideoID(videoID)\n",
    "videoID = 'wgNiGj1nGYE'\n",
    "assert (videoID, video_link, data_link) == parseVideoID(videoID)"
   ]
  },
  {
   "cell_type": "code",
   "execution_count": null,
   "metadata": {
    "ExecuteTime": {
     "end_time": "2021-04-17T02:55:16.591417Z",
     "start_time": "2021-04-17T02:55:16.579889Z"
    }
   },
   "outputs": [],
   "source": [
    "    "
   ]
  },
  {
   "cell_type": "code",
   "execution_count": null,
   "metadata": {
    "ExecuteTime": {
     "start_time": "2021-04-17T04:28:48.969Z"
    }
   },
   "outputs": [],
   "source": [
    "#export\n",
    "import fire\n",
    "import sys\n",
    "from functools import partial\n",
    "import json\n",
    "import re\n",
    "from typing import Union, Optional\n",
    "def main(\n",
    "    videoID:str, \n",
    "    translation:Union[str,bool]='zh-Hans', \n",
    "    caption_num:int=0, \n",
    "    caption_num_second:int=None,\n",
    "    output_file:str=None, \n",
    "    save_to_file:bool=True, \n",
    "    to_json:bool=False, \n",
    "    remove_font_tag:bool=True, \n",
    "    ):\n",
    "    \"\"\"\n",
    "    download youtube closed caption(subtitles) by videoID\n",
    "    \n",
    "    Examples:\n",
    "    dl-youtube-cc -h # to see this helpful infomation\n",
    "    dl-youtube-cc wgNiGj1nGYE --translation 'ja' # use japanese translation, see ./lang_code for full list\n",
    "    dl-youtube-cc wgNiGj1nGYE --caption_num=1 --translation 'ja' # choose the caption num for original transcript and use japanese translation,\n",
    "    dl-youtube-cc wgNiGj1nGYE --caption_num=1 --caption_num_second=2 # manually choose the original and translation transcript from available caption list\n",
    "    dl-youtube-cc wgNiGj1nGYE --translation False # without translation\n",
    "    dl-youtube-cc wgNiGj1nGYE --save_to_file=False # print stuff in console\n",
    "    dl-youtube-cc wgNiGj1nGYE --output_file='test.txt' # print stuff in named file\n",
    "    dl-youtube-cc wgNiGj1nGYE --to_json=True # print stuff in json\n",
    "    \n",
    "    Argument:\n",
    "    videoID : the video link or the id of youtube video, the string after 'v=' in a youtube video link\n",
    "    translation : which will be displayed as original transcript, default to 'zh-Hans' for simplified Chinese, see ./lang_code.json for full list, or pass False to disable translation\n",
    "    caption_num : choose the caption which will be displayed as original transcript\n",
    "    caption_num_second : will surpass translation option, choose the caption which will be displayed as translation transcript\n",
    "    output_file : default to video title\n",
    "    save_to_file : pass False to print in console\n",
    "    to_json: pass True to export caption to json\n",
    "    remove_font_tag: remove font tag\n",
    "    \"\"\"    \n",
    "    videoID, video_link, data_link = parseVideoID(videoID)\n",
    "    data=get_data(data_link)\n",
    "    captionTracks, title = None, None\n",
    "    try:\n",
    "        captionTracks, title = get_tracks_title(data)\n",
    "    except: \n",
    "        perr(\"can't not retrive caption, visit \", data_link, \" for detail\")\n",
    "        raise \n",
    "        \n",
    "    \n",
    "    info = partial(print, \"INFO: \")\n",
    "    \n",
    "    info(\"available caption(s):\")\n",
    "    for i, caption in enumerate(captionTracks):\n",
    "        mark = '⭕'\n",
    "        if caption_num == i:mark = '✔ as original'\n",
    "        if caption_num_second == i: mark = '✔ as translation' \n",
    "        notice = f\"{mark}\"\n",
    "        info(notice, f\"#{i}.\", format_caption(caption))\n",
    "    info(\"✔ marks chosen one in 0-index\")\n",
    "    info(\"given by --caption_num default to 0 as original\")\n",
    "    if caption_num_second is None: info(\"you may use --caption_num_second intead of --translation to spefify translation transript\")\n",
    "    get_caption_url = lambda i:captionTracks[i][\"baseUrl\"]\n",
    "    \n",
    "    # as original caption\n",
    "    caption = captionTracks[caption_num]\n",
    "    baseUrl = caption['baseUrl']\n",
    "    transcript = requests.get(baseUrl)\n",
    "#     info('using',f\"{caption_num}.\", format_caption(caption))\n",
    "    \n",
    "    _parseTranscript = partial(parseTranscript, remove_font_tag=remove_font_tag)\n",
    "    subtitle = _parseTranscript(transcript, )\n",
    "    sent_subtitle = subtitle\n",
    "    \n",
    "    output_json = { \"original\": subtitle }\n",
    "    \n",
    "    if translation or caption_num_second:\n",
    "        if translation: baseUrl = caption['baseUrl'] + '&tlang=' + translation\n",
    "        if caption_num_second: baseUrl = get_caption_url(caption_num_second)\n",
    "        transcript = requests.get(baseUrl)\n",
    "        subtitle_cn = _parseTranscript(transcript)\n",
    "        merged_subtitle = merge_subtitle(subtitle, subtitle_cn)\n",
    "        sent_subtitle = merged_subtitle\n",
    "        output_json = {\n",
    "                 \"original\": subtitle,\n",
    "                 \"translation\":subtitle_cn,\n",
    "                # note that it's not guaranteed to be aligned.\n",
    "                \"merged\": merged_subtitle,\n",
    "            }\n",
    "        \n",
    "    ######################## save to file\n",
    "            \n",
    "    f = sys.stdout\n",
    "    if save_to_file :\n",
    "        if output_file is None: \n",
    "            if to_json:\n",
    "                output_file = get_valid_filename(f'{title}.json')\n",
    "            else:\n",
    "                output_file = get_valid_filename(f'{title}.txt')\n",
    "        f = open(output_file , 'w', encoding='UTF-8')\n",
    "        info(\"Save to \", output_file )\n",
    "    \n",
    "    if to_json:\n",
    "        json.dump(\n",
    "            output_json\n",
    "             , f, indent=4, ensure_ascii=False)\n",
    "        return \n",
    "        \n",
    "    pfile = partial(print, file=f)\n",
    "    pfile(video_link, file=f)\n",
    "    for sent in sent_subtitle:\n",
    "        each_sent(sent, file=f)\n",
    "        pfile()"
   ]
  },
  {
   "cell_type": "code",
   "execution_count": null,
   "metadata": {
    "ExecuteTime": {
     "start_time": "2021-04-17T04:28:48.971Z"
    }
   },
   "outputs": [],
   "source": [
    "#export\n",
    "from functools import partial\n",
    "def set_fire(fn):\n",
    "    if common.IN_TRAVIS or common.IN_JUPYTER:\n",
    "        return \n",
    "    fire.Fire(fn)\n",
    "if __name__ == '__main__':\n",
    "    if common.IN_TRAVIS or common.IN_JUPYTER:\n",
    "        pass\n",
    "    else :\n",
    "        set_fire(main)\n",
    "fire_main = partial(set_fire, main)"
   ]
  },
  {
   "cell_type": "code",
   "execution_count": null,
   "metadata": {
    "ExecuteTime": {
     "start_time": "2021-04-17T04:28:48.973Z"
    }
   },
   "outputs": [
    {
     "data": {
      "application/javascript": [
       "IPython.notebook.save_checkpoint();"
      ],
      "text/plain": [
       "<IPython.core.display.Javascript object>"
      ]
     },
     "metadata": {},
     "output_type": "display_data"
    },
    {
     "name": "stdout",
     "output_type": "stream",
     "text": [
      "Converted main.ipynb to ..\\download_youtube_subtitle\\main.py\n",
      "Converted main.ipynb to ..\\tests\\test_main.py\n"
     ]
    }
   ],
   "source": [
    "common.save_and_export_notebook('main')"
   ]
  },
  {
   "cell_type": "code",
   "execution_count": 70,
   "metadata": {
    "ExecuteTime": {
     "end_time": "2021-04-17T03:19:42.536660Z",
     "start_time": "2021-04-17T03:19:40.453786Z"
    }
   },
   "outputs": [
    {
     "name": "stdout",
     "output_type": "stream",
     "text": [
      "INFO:  available caption(s):\n",
      "0 None\n",
      "INFO:  ✔ as original #0. .zh-Hant 中文（繁體字）\n",
      "INFO:  ⭕ #1. .zh-Hans 中文（簡體字）\n",
      "INFO:  ⭕ #2. .id      印尼文\n",
      "INFO:  ⭕ #3. .es      西班牙文\n",
      "INFO:  ⭕ #4. .fr      法文\n",
      "INFO:  ⭕ #5. .ru      俄文\n",
      "INFO:  ⭕ #6. .en-US   英文（美國）\n",
      "INFO:  ⭕ #7. .th      泰文\n",
      "INFO:  ⭕ #8. .vi      越南文\n",
      "INFO:  ⭕ #9. .pt      葡萄牙文\n",
      "INFO:  ⭕ #10. .de      德文\n",
      "INFO:  ✔ marks chosen one in 0-index\n",
      "INFO:  given by --caption_num default to 0 as original\n",
      "INFO:  you may use --caption_num_second intead of --translation to spefify translation transript\n",
      "INFO:  Save to  Version1.5SpecialProgramGenshinImpact.txt\n"
     ]
    }
   ],
   "source": [
    "#test_export\n",
    "main(\"wgNiGj1nGYE\", translation='ja')"
   ]
  },
  {
   "cell_type": "code",
   "execution_count": 81,
   "metadata": {
    "ExecuteTime": {
     "end_time": "2021-04-17T04:15:43.264084Z",
     "start_time": "2021-04-17T04:15:41.568811Z"
    }
   },
   "outputs": [
    {
     "name": "stdout",
     "output_type": "stream",
     "text": [
      "INFO:  available caption(s):\n",
      "INFO:  ✔ as translation #0. .zh-Hant 中文（繁體字）\n",
      "INFO:  ⭕ #1. .zh-Hans 中文（簡體字）\n",
      "INFO:  ⭕ #2. .id      印尼文\n",
      "INFO:  ⭕ #3. .es      西班牙文\n",
      "INFO:  ⭕ #4. .fr      法文\n",
      "INFO:  ⭕ #5. .ru      俄文\n",
      "INFO:  ✔ as original #6. .en-US   英文（美國）\n",
      "INFO:  ⭕ #7. .th      泰文\n",
      "INFO:  ⭕ #8. .vi      越南文\n",
      "INFO:  ⭕ #9. .pt      葡萄牙文\n",
      "INFO:  ⭕ #10. .de      德文\n",
      "INFO:  ✔ marks chosen one in 0-index\n",
      "INFO:  given by --caption_num default to 0 as original\n",
      "INFO:  Save to  Version1.5SpecialProgramGenshinImpact.txt\n"
     ]
    }
   ],
   "source": [
    "#test_export\n",
    "main(\"wgNiGj1nGYE\", caption_num=6, caption_num_second=0)"
   ]
  },
  {
   "cell_type": "code",
   "execution_count": 82,
   "metadata": {
    "ExecuteTime": {
     "end_time": "2021-04-17T04:15:45.653838Z",
     "start_time": "2021-04-17T04:15:43.993882Z"
    }
   },
   "outputs": [
    {
     "name": "stdout",
     "output_type": "stream",
     "text": [
      "INFO:  available caption(s):\n",
      "INFO:  ✔ as original #0. .zh-Hant 中文（繁體字）\n",
      "INFO:  ⭕ #1. .zh-Hans 中文（簡體字）\n",
      "INFO:  ⭕ #2. .id      印尼文\n",
      "INFO:  ✔ as translation #3. .es      西班牙文\n",
      "INFO:  ⭕ #4. .fr      法文\n",
      "INFO:  ⭕ #5. .ru      俄文\n",
      "INFO:  ⭕ #6. .en-US   英文（美國）\n",
      "INFO:  ⭕ #7. .th      泰文\n",
      "INFO:  ⭕ #8. .vi      越南文\n",
      "INFO:  ⭕ #9. .pt      葡萄牙文\n",
      "INFO:  ⭕ #10. .de      德文\n",
      "INFO:  ✔ marks chosen one in 0-index\n",
      "INFO:  given by --caption_num default to 0 as original\n",
      "INFO:  Save to  0,3-zh,es.txt\n"
     ]
    }
   ],
   "source": [
    "#test_export\n",
    "main(\"wgNiGj1nGYE\", caption_num=0, caption_num_second=3, output_file=\"0,3-zh,es.txt\")"
   ]
  },
  {
   "cell_type": "code",
   "execution_count": 73,
   "metadata": {
    "ExecuteTime": {
     "end_time": "2021-04-17T03:29:08.965887Z",
     "start_time": "2021-04-17T03:29:06.796978Z"
    }
   },
   "outputs": [
    {
     "name": "stdout",
     "output_type": "stream",
     "text": [
      "INFO:  available caption(s):\n",
      "6 None\n",
      "INFO:  ⭕ #0. .zh-Hant 中文（繁體字）\n",
      "INFO:  ⭕ #1. .zh-Hans 中文（簡體字）\n",
      "INFO:  ⭕ #2. .id      印尼文\n",
      "INFO:  ⭕ #3. .es      西班牙文\n",
      "INFO:  ⭕ #4. .fr      法文\n",
      "INFO:  ⭕ #5. .ru      俄文\n",
      "INFO:  ✔ as original #6. .en-US   英文（美國）\n",
      "INFO:  ⭕ #7. .th      泰文\n",
      "INFO:  ⭕ #8. .vi      越南文\n",
      "INFO:  ⭕ #9. .pt      葡萄牙文\n",
      "INFO:  ⭕ #10. .de      德文\n",
      "INFO:  ✔ marks chosen one in 0-index\n",
      "INFO:  given by --caption_num default to 0 as original\n",
      "INFO:  you may use --caption_num_second intead of --translation to spefify translation transript\n",
      "INFO:  Save to  Version1.5SpecialProgramGenshinImpact.json\n"
     ]
    }
   ],
   "source": [
    "#test_export\n",
    "main(\"wgNiGj1nGYE\", caption_num=6, translation=\"ja\", to_json=True)"
   ]
  },
  {
   "cell_type": "code",
   "execution_count": 41,
   "metadata": {
    "ExecuteTime": {
     "end_time": "2021-04-17T03:10:09.407838Z",
     "start_time": "2021-04-17T03:10:07.425631Z"
    },
    "scrolled": true
   },
   "outputs": [
    {
     "name": "stdout",
     "output_type": "stream",
     "text": [
      "INFO:  available caption(s) will be displayed as original text:\n",
      "INFO:  ⭕ #0. a.en     英文+(自動產生) automatically generated by youtube\n",
      "INFO:  ⭕ #1. .en.j3PyPqV-e1s 英文+-+CC+(English)\n",
      "INFO:  ✔ marks chosen one,  given by --caption_num or  --caption_num_second in 0-index, default to 0\n",
      "INFO:  Save to  ChinesePoliticsu0026AuthoritarianRegimesProfessorRoryTruexTalksatGoogle.txt\n"
     ]
    }
   ],
   "source": [
    "#test_export\n",
    "#fix eachTxt, allow txt.firstChild = None\n",
    "main('https://www.youtube.com/watch?v=Zd14s2WW-Tc', caption_num=1)"
   ]
  },
  {
   "cell_type": "code",
   "execution_count": 42,
   "metadata": {
    "ExecuteTime": {
     "end_time": "2021-04-17T03:10:10.269057Z",
     "start_time": "2021-04-17T03:10:09.412822Z"
    }
   },
   "outputs": [
    {
     "name": "stdout",
     "output_type": "stream",
     "text": [
      "ERR:  no caption available for this video ;( following are message from youtube\n",
      "ERR:  ['playabilityStatus\":{\"status\":\"UNPLAYABLE\",\"reason\":\"影片無法提供\",\"errorScreen\":{\"playerErrorMessageRenderer\":{\"reason\":{\"simpleText\":\"影片無法提供\"}']\n",
      "ERR:  can't not retrive caption, visit  https://youtube.com/get_video_info?video_id=EozTm6ZVf1U  for detail\n"
     ]
    },
    {
     "data": {
      "text/plain": [
       "True"
      ]
     },
     "execution_count": 42,
     "metadata": {},
     "output_type": "execute_result"
    }
   ],
   "source": [
    "#test_export\n",
    "import sure\n",
    "main.when.called_with('https://www.youtube.com/watch?v=EozTm6ZVf1U', caption_num=1).should.throw(CaptionNotAvailableException)"
   ]
  },
  {
   "cell_type": "code",
   "execution_count": 43,
   "metadata": {
    "ExecuteTime": {
     "end_time": "2021-04-17T03:10:11.771150Z",
     "start_time": "2021-04-17T03:10:10.274051Z"
    },
    "deletable": false,
    "editable": false,
    "run_control": {
     "frozen": true
    }
   },
   "outputs": [
    {
     "name": "stdout",
     "output_type": "stream",
     "text": [
      "INFO:  available caption(s) will be displayed as original text:\n",
      "INFO:  ⭕ #0. .en      英文\n",
      "INFO:  ⭕ #1. a.en     英文+(自動產生) automatically generated by youtube\n",
      "INFO:  ✔ marks chosen one,  given by --caption_num or  --caption_num_second in 0-index, default to 0\n",
      "INFO:  Save to  DontLoseYourAccentLearningAccents-TREVORNOAHPayBackTheFunny.txt\n"
     ]
    }
   ],
   "source": [
    "#test_export\n",
    "main('MhCEdIqFCck') # fix title with quotes \""
   ]
  },
  {
   "cell_type": "code",
   "execution_count": 44,
   "metadata": {
    "ExecuteTime": {
     "end_time": "2021-04-17T03:10:13.302985Z",
     "start_time": "2021-04-17T03:10:11.775150Z"
    },
    "deletable": false,
    "editable": false,
    "run_control": {
     "frozen": true
    }
   },
   "outputs": [
    {
     "name": "stdout",
     "output_type": "stream",
     "text": [
      "INFO:  available caption(s) will be displayed as original text:\n",
      "INFO:  ⭕ #0. a.en     英文+(自動產生) automatically generated by youtube\n",
      "INFO:  ✔ marks chosen one,  given by --caption_num or  --caption_num_second in 0-index, default to 0\n",
      "INFO:  Save to  SilentVoiceKoenoKatachiYamadaandtheUnspoken.txt\n"
     ]
    }
   ],
   "source": [
    "#test_export\n",
    "main('HSz7Q4YnQ_M') # fix when cc's length and translated cc's don't match"
   ]
  },
  {
   "cell_type": "code",
   "execution_count": 45,
   "metadata": {
    "ExecuteTime": {
     "end_time": "2021-04-17T03:10:13.313989Z",
     "start_time": "2021-04-17T03:10:13.307007Z"
    }
   },
   "outputs": [],
   "source": [
    "#test_export\n",
    "def read_all_content(f):\n",
    "    with open(f, 'r', encoding='UTF-8') as f:\n",
    "        ret = ''.join(f.readlines())\n",
    "    return ret"
   ]
  },
  {
   "cell_type": "code",
   "execution_count": 46,
   "metadata": {
    "ExecuteTime": {
     "end_time": "2021-04-17T03:10:14.919224Z",
     "start_time": "2021-04-17T03:10:13.317983Z"
    },
    "deletable": false,
    "editable": false,
    "run_control": {
     "frozen": true
    }
   },
   "outputs": [
    {
     "name": "stdout",
     "output_type": "stream",
     "text": [
      "INFO:  available caption(s) will be displayed as original text:\n",
      "INFO:  ⭕ #0. a.en     英文+(自動產生) automatically generated by youtube\n",
      "INFO:  ✔ marks chosen one,  given by --caption_num or  --caption_num_second in 0-index, default to 0\n",
      "INFO:  Save to  no_font_tag.txt\n"
     ]
    }
   ],
   "source": [
    "#test_export\n",
    "f = 'no_font_tag.txt'\n",
    "main('tktbVrTFUkc', output_file=f) # remove font tag\n",
    "assert '<font' not in read_all_content(f)\n",
    "assert '</font>' not in read_all_content(f)\n",
    "del f"
   ]
  },
  {
   "cell_type": "code",
   "execution_count": 47,
   "metadata": {
    "ExecuteTime": {
     "end_time": "2021-04-17T03:10:16.470249Z",
     "start_time": "2021-04-17T03:10:14.923228Z"
    },
    "deletable": false,
    "editable": false,
    "run_control": {
     "frozen": true
    }
   },
   "outputs": [
    {
     "name": "stdout",
     "output_type": "stream",
     "text": [
      "INFO:  available caption(s) will be displayed as original text:\n",
      "INFO:  ⭕ #0. a.en     英文+(自動產生) automatically generated by youtube\n",
      "INFO:  ✔ marks chosen one,  given by --caption_num or  --caption_num_second in 0-index, default to 0\n",
      "INFO:  Save to  save_font_tag.txt\n"
     ]
    }
   ],
   "source": [
    "#test_export\n",
    "f = 'save_font_tag.txt'\n",
    "main('tktbVrTFUkc', remove_font_tag=False, output_file=f) # remove font tag\n",
    "del f"
   ]
  },
  {
   "cell_type": "code",
   "execution_count": 48,
   "metadata": {
    "ExecuteTime": {
     "end_time": "2021-04-17T03:10:17.733454Z",
     "start_time": "2021-04-17T03:10:16.473252Z"
    }
   },
   "outputs": [
    {
     "name": "stdout",
     "output_type": "stream",
     "text": [
      "INFO:  available caption(s) will be displayed as original text:\n",
      "INFO:  ⭕ #0. a.en     英文+(自動產生) automatically generated by youtube\n",
      "INFO:  ✔ marks chosen one,  given by --caption_num or  --caption_num_second in 0-index, default to 0\n",
      "INFO:  Save to  a.txt\n"
     ]
    }
   ],
   "source": [
    "#test_export\n",
    "# see [Fix issue where translation is not True by marosoft · Pull Request #3 · xsthunder/download-youtube-subtitle](https://github.com/xsthunder/download-youtube-subtitle/pull/3)\n",
    "main(\"SVdQ-2njL6U\", translation=False, output_file=f'a.txt')"
   ]
  }
 ],
 "metadata": {
  "kernelspec": {
   "display_name": "Python 3",
   "language": "python",
   "name": "python3"
  },
  "language_info": {
   "codemirror_mode": {
    "name": "ipython",
    "version": 3
   },
   "file_extension": ".py",
   "mimetype": "text/x-python",
   "name": "python",
   "nbconvert_exporter": "python",
   "pygments_lexer": "ipython3",
   "version": "3.7.3"
  }
 },
 "nbformat": 4,
 "nbformat_minor": 2
}
